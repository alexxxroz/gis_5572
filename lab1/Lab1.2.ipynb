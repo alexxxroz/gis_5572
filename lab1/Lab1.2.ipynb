{
 "cells": [
  {
   "cell_type": "code",
   "execution_count": 9,
   "metadata": {},
   "outputs": [],
   "source": [
    "import arcpy\n",
    "import psycopg2"
   ]
  },
  {
   "cell_type": "code",
   "execution_count": null,
   "metadata": {},
   "outputs": [],
   "source": [
    "coordinates = [\n",
    "    [\n",
    "        [-93.25, 44.98], \n",
    "        [-93.24, 44.98], \n",
    "        [-93.24, 44.99], \n",
    "        [-93.25, 44.99], \n",
    "        [-93.25, 44.98]\n",
    "    ]\n",
    "]\n",
    "polygon = arcpy.Polygon(arcpy.Array([arcpy.Point(*coords) for coords in coordinates[0]]))\n",
    "wkt = polygon.WKT"
   ]
  },
  {
   "cell_type": "code",
   "execution_count": 11,
   "metadata": {},
   "outputs": [],
   "source": [
    "conn = psycopg2.connect(\n",
    "    dbname=\"postgres\",\n",
    "    user=\"postgres\",\n",
    "    password=\"\",\n",
    "    host=\"\",\n",
    "    port=\"5432\"\n",
    ")\n",
    "cursor = conn.cursor()\n",
    "\n",
    "query = \"\"\"\n",
    "CREATE TABLE IF NOT EXISTS \n",
    "    geometries (\n",
    "    id SERIAL PRIMARY KEY,\n",
    "    geom GEOMETRY\n",
    ");\n",
    "\"\"\"\n",
    "cursor.execute(query)\n",
    "connection.commit()"
   ]
  },
  {
   "cell_type": "code",
   "execution_count": null,
   "metadata": {},
   "outputs": [],
   "source": [
    "row = \"INSERT INTO geometries (geom) VALUES (ST_GeomFromText(%s, 4326));\"\n",
    "cursor.execute(row, (wkt,))\n",
    "conn.commit()\n",
    "\n",
    "cursor.close()\n",
    "conn.close()"
   ]
  }
 ],
 "metadata": {
  "kernelspec": {
   "display_name": "Python 3 (ipykernel)",
   "language": "python",
   "name": "python3"
  },
  "language_info": {
   "codemirror_mode": {
    "name": "ipython",
    "version": 3
   },
   "file_extension": ".py",
   "mimetype": "text/x-python",
   "name": "python",
   "nbconvert_exporter": "python",
   "pygments_lexer": "ipython3",
   "version": "3.12.3"
  }
 },
 "nbformat": 4,
 "nbformat_minor": 4
}
